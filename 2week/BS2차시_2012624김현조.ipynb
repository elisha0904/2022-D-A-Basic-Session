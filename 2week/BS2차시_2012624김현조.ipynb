{
  "cells": [
    {
      "cell_type": "markdown",
      "id": "4f306ed8",
      "metadata": {
        "id": "4f306ed8"
      },
      "source": [
        "### Q1. 본인의 이름, 학번, 좋아하는 음식을 value에 넣어 dictionary를 완성시켜 보세요"
      ]
    },
    {
      "cell_type": "code",
      "execution_count": 2,
      "id": "138d3985",
      "metadata": {
        "id": "138d3985"
      },
      "outputs": [],
      "source": [
        "info = {\"이름\" :  \"김현조\", \"학번\" : \"20212624\", \"음식\" : \"곱창\"}"
      ]
    },
    {
      "cell_type": "markdown",
      "id": "ec6d66b3",
      "metadata": {
        "id": "ec6d66b3"
      },
      "source": [
        "### Q2. 1번에서 만든 dictionary에서 좋아하는 음식(value)를 key를 사용해 출력해보세요"
      ]
    },
    {
      "cell_type": "code",
      "execution_count": null,
      "id": "9fe160e1",
      "metadata": {
        "colab": {
          "base_uri": "https://localhost:8080/"
        },
        "id": "9fe160e1",
        "outputId": "60a15a24-50f2-4d17-85f8-dda730b040ec"
      },
      "outputs": [
        {
          "output_type": "stream",
          "name": "stdout",
          "text": [
            "곱창\n"
          ]
        }
      ],
      "source": [
        "print(info[\"음식\"])"
      ]
    },
    {
      "cell_type": "markdown",
      "id": "0f24c91d",
      "metadata": {
        "id": "0f24c91d"
      },
      "source": [
        "### Q3. 다음 a라는 리스트에서 중복된 요소가 제거된 리스트를 만들어 출력해보세요"
      ]
    },
    {
      "cell_type": "code",
      "execution_count": null,
      "id": "7231a27b",
      "metadata": {
        "id": "7231a27b"
      },
      "outputs": [],
      "source": [
        "a = [1, 1, 2, 2, 2, 3, 4, 5, 5]"
      ]
    },
    {
      "cell_type": "code",
      "source": [
        "set_a = set(a)\n",
        "print(set_a)"
      ],
      "metadata": {
        "colab": {
          "base_uri": "https://localhost:8080/"
        },
        "id": "CAUXVr4f6Pd5",
        "outputId": "1399eec0-9658-4ca7-88df-0a166fadc5c7"
      },
      "id": "CAUXVr4f6Pd5",
      "execution_count": null,
      "outputs": [
        {
          "output_type": "stream",
          "name": "stdout",
          "text": [
            "{1, 2, 3, 4, 5}\n"
          ]
        }
      ]
    },
    {
      "cell_type": "markdown",
      "id": "ac2e8b6d",
      "metadata": {
        "id": "ac2e8b6d"
      },
      "source": [
        "### Q4. 1이라는 한 요소가 담긴 튜플을 만들어 출력해보세요"
      ]
    },
    {
      "cell_type": "code",
      "execution_count": null,
      "id": "287a9b9b",
      "metadata": {
        "colab": {
          "base_uri": "https://localhost:8080/"
        },
        "id": "287a9b9b",
        "outputId": "23de1183-2e2b-455b-b379-aa29d6ffee3a"
      },
      "outputs": [
        {
          "output_type": "stream",
          "name": "stdout",
          "text": [
            "(1,)\n"
          ]
        }
      ],
      "source": [
        "tu_ple = (1, )\n",
        "print(tu_ple)"
      ]
    },
    {
      "cell_type": "markdown",
      "id": "908c41d3",
      "metadata": {
        "id": "908c41d3"
      },
      "source": [
        "### Q5. datetime 모듈을 사용해 올해 어린이날부터 크리스마스까지 얼마나 남았나 계산해보세요!"
      ]
    },
    {
      "cell_type": "code",
      "execution_count": null,
      "id": "449dc81c",
      "metadata": {
        "id": "449dc81c"
      },
      "outputs": [],
      "source": [
        "import datetime\n",
        "\n",
        "today = datetime.date.today()\n",
        "christmas = datetime.date.today() - datetime.date(2022,12,25)\n",
        "kidday = datetime.date.today() - datetime.date(2022,5,5)\n",
        "\n",
        "print(\"크리스마스까지\", christmas, \"일 남았습니다.\")"
      ]
    },
    {
      "cell_type": "markdown",
      "id": "520a7d8c",
      "metadata": {
        "id": "520a7d8c"
      },
      "source": [
        "### Q6. 리스트 문제!"
      ]
    },
    {
      "cell_type": "code",
      "execution_count": null,
      "id": "d18449e3",
      "metadata": {
        "id": "d18449e3"
      },
      "outputs": [],
      "source": [
        "listt = [20, 120, 50, 70, 40, 90, 50, 80, 60]"
      ]
    },
    {
      "cell_type": "markdown",
      "id": "c90a944b",
      "metadata": {
        "id": "c90a944b"
      },
      "source": [
        "(1)\n",
        "listt에서 60을 제거하세요"
      ]
    },
    {
      "cell_type": "code",
      "execution_count": null,
      "id": "e8043bb3",
      "metadata": {
        "colab": {
          "base_uri": "https://localhost:8080/",
          "height": 195
        },
        "id": "e8043bb3",
        "outputId": "5d57e758-73a7-4c40-f266-82b2d1394a1b"
      },
      "outputs": [
        {
          "output_type": "error",
          "ename": "ValueError",
          "evalue": "ignored",
          "traceback": [
            "\u001b[0;31m---------------------------------------------------------------------------\u001b[0m",
            "\u001b[0;31mValueError\u001b[0m                                Traceback (most recent call last)",
            "\u001b[0;32m<ipython-input-17-dc0dfd795184>\u001b[0m in \u001b[0;36m<module>\u001b[0;34m()\u001b[0m\n\u001b[0;32m----> 1\u001b[0;31m \u001b[0mlistt\u001b[0m\u001b[0;34m.\u001b[0m\u001b[0mremove\u001b[0m\u001b[0;34m(\u001b[0m\u001b[0;36m60\u001b[0m\u001b[0;34m)\u001b[0m\u001b[0;34m\u001b[0m\u001b[0;34m\u001b[0m\u001b[0m\n\u001b[0m\u001b[1;32m      2\u001b[0m \u001b[0mlistt\u001b[0m\u001b[0;34m\u001b[0m\u001b[0;34m\u001b[0m\u001b[0m\n",
            "\u001b[0;31mValueError\u001b[0m: list.remove(x): x not in list"
          ]
        }
      ],
      "source": [
        "listt.remove(60)\n",
        "listt"
      ]
    },
    {
      "cell_type": "markdown",
      "id": "8b276040",
      "metadata": {
        "id": "8b276040"
      },
      "source": [
        "(2)\n",
        "listt의 앞 네 요소를 출력하세요"
      ]
    },
    {
      "cell_type": "code",
      "execution_count": null,
      "id": "22d89cb0",
      "metadata": {
        "colab": {
          "base_uri": "https://localhost:8080/"
        },
        "id": "22d89cb0",
        "outputId": "847c956e-9380-4c50-f4fe-332a5fb67945"
      },
      "outputs": [
        {
          "output_type": "execute_result",
          "data": {
            "text/plain": [
              "[20, 120, 50, 70]"
            ]
          },
          "metadata": {},
          "execution_count": 16
        }
      ],
      "source": [
        "listt[0:4]"
      ]
    },
    {
      "cell_type": "markdown",
      "id": "7100e0c4",
      "metadata": {
        "id": "7100e0c4"
      },
      "source": [
        "(3)\n",
        "listt를 요소의 크기를 기준으로 정렬하세요"
      ]
    },
    {
      "cell_type": "code",
      "execution_count": null,
      "id": "cfceebe1",
      "metadata": {
        "colab": {
          "base_uri": "https://localhost:8080/"
        },
        "id": "cfceebe1",
        "outputId": "6968ae55-9f4e-436d-bb5e-6b31bb9bdf53"
      },
      "outputs": [
        {
          "output_type": "execute_result",
          "data": {
            "text/plain": [
              "[20, 40, 50, 50, 70, 80, 90, 120]"
            ]
          },
          "metadata": {},
          "execution_count": 20
        }
      ],
      "source": [
        "listt.sort()\n",
        "listt"
      ]
    },
    {
      "cell_type": "markdown",
      "id": "ff8cb7cc",
      "metadata": {
        "id": "ff8cb7cc"
      },
      "source": [
        "(4)\n",
        "listt의 맨 마지막 요소를 출력하세요"
      ]
    },
    {
      "cell_type": "code",
      "execution_count": null,
      "id": "73ff23bd",
      "metadata": {
        "colab": {
          "base_uri": "https://localhost:8080/"
        },
        "id": "73ff23bd",
        "outputId": "9d5c7a3b-ffc8-4324-efdd-59fb61d74990"
      },
      "outputs": [
        {
          "output_type": "execute_result",
          "data": {
            "text/plain": [
              "120"
            ]
          },
          "metadata": {},
          "execution_count": 21
        }
      ],
      "source": [
        "listt[-1]"
      ]
    },
    {
      "cell_type": "markdown",
      "id": "b4f78058",
      "metadata": {
        "id": "b4f78058"
      },
      "source": [
        "(5)\n",
        "listt의 요소를 모두 삭제한 후 리스트를 출력하세요"
      ]
    },
    {
      "cell_type": "code",
      "execution_count": null,
      "id": "3b294a6f",
      "metadata": {
        "colab": {
          "base_uri": "https://localhost:8080/"
        },
        "id": "3b294a6f",
        "outputId": "594c1582-81ea-4b88-a2c8-329cd7ed3c27"
      },
      "outputs": [
        {
          "output_type": "execute_result",
          "data": {
            "text/plain": [
              "[]"
            ]
          },
          "metadata": {},
          "execution_count": 23
        }
      ],
      "source": [
        "listt.clear()\n",
        "listt"
      ]
    },
    {
      "cell_type": "markdown",
      "id": "722b4a03",
      "metadata": {
        "id": "722b4a03"
      },
      "source": [
        "(6) listt를 삭제하세요 (삭제 후 삭제가 되었나 출력까지 해보기)"
      ]
    },
    {
      "cell_type": "code",
      "execution_count": null,
      "id": "413bdef2",
      "metadata": {
        "id": "413bdef2"
      },
      "outputs": [],
      "source": [
        "del(listt)"
      ]
    },
    {
      "cell_type": "code",
      "execution_count": null,
      "id": "0bf6627d",
      "metadata": {
        "colab": {
          "base_uri": "https://localhost:8080/",
          "height": 176
        },
        "id": "0bf6627d",
        "outputId": "f1a1dd28-1b2e-4864-dbfc-f4e101ce5f66"
      },
      "outputs": [
        {
          "output_type": "error",
          "ename": "NameError",
          "evalue": "ignored",
          "traceback": [
            "\u001b[0;31m---------------------------------------------------------------------------\u001b[0m",
            "\u001b[0;31mNameError\u001b[0m                                 Traceback (most recent call last)",
            "\u001b[0;32m<ipython-input-25-c8aedf1d3a49>\u001b[0m in \u001b[0;36m<module>\u001b[0;34m()\u001b[0m\n\u001b[0;32m----> 1\u001b[0;31m \u001b[0mlistt\u001b[0m\u001b[0;34m\u001b[0m\u001b[0;34m\u001b[0m\u001b[0m\n\u001b[0m",
            "\u001b[0;31mNameError\u001b[0m: name 'listt' is not defined"
          ]
        }
      ],
      "source": [
        "listt"
      ]
    },
    {
      "cell_type": "markdown",
      "id": "b978eed6",
      "metadata": {
        "id": "b978eed6"
      },
      "source": [
        "### Q7. 다음 두 리스트의 요소들을 동일한 인덱스를 가지는 요소끼리 튜플로 묶어, 이것을 다시 리스트에 담아 출력해보세요"
      ]
    },
    {
      "cell_type": "code",
      "execution_count": null,
      "id": "42c9aa5a",
      "metadata": {
        "id": "42c9aa5a"
      },
      "outputs": [],
      "source": [
        "player = [\"손흥민\", \"메시\", \"홀란드\", \"네이마르\"]\n",
        "number = [7, 30, 9, 10]"
      ]
    },
    {
      "cell_type": "code",
      "source": [
        "# zip 활용\n",
        "tuple(zip(player, number))"
      ],
      "metadata": {
        "colab": {
          "base_uri": "https://localhost:8080/"
        },
        "id": "6KDHj5HDJnRo",
        "outputId": "34c771bf-d50a-486e-f4e7-4fa0fa7b41c8"
      },
      "id": "6KDHj5HDJnRo",
      "execution_count": null,
      "outputs": [
        {
          "output_type": "execute_result",
          "data": {
            "text/plain": [
              "(('손흥민', 7), ('메시', 30), ('홀란드', 9), ('네이마르', 10))"
            ]
          },
          "metadata": {},
          "execution_count": 38
        }
      ]
    },
    {
      "cell_type": "code",
      "source": [
        "# for 반복문 활용\n",
        "\n",
        "for e in range(0, 3):\n",
        "    globals()['tup_{}'.format(e)] = (player[e], number[e])\n",
        "\n",
        "tuplistt = [tup_0, tup_1, tup_2, tup_3]\n",
        "tuplistt"
      ],
      "metadata": {
        "colab": {
          "base_uri": "https://localhost:8080/"
        },
        "id": "8JkpFOGD-M--",
        "outputId": "296af417-6e00-45ff-a296-87b3a206d7e3"
      },
      "id": "8JkpFOGD-M--",
      "execution_count": null,
      "outputs": [
        {
          "output_type": "execute_result",
          "data": {
            "text/plain": [
              "[('손흥민', 7), ('메시', 30), ('홀란드', 9), ('네이마르', 10)]"
            ]
          },
          "metadata": {},
          "execution_count": 30
        }
      ]
    },
    {
      "cell_type": "markdown",
      "id": "afa78763",
      "metadata": {
        "id": "afa78763"
      },
      "source": [
        "### Q8. 다음 수의 각 자리수를 변수를 사용하여 더해보세요"
      ]
    },
    {
      "cell_type": "code",
      "execution_count": null,
      "id": "abf4af7b",
      "metadata": {
        "id": "abf4af7b"
      },
      "outputs": [],
      "source": [
        "a = 647"
      ]
    },
    {
      "cell_type": "code",
      "source": [
        "numm = []\n",
        "for i in str(a):\n",
        "    numm.append(i)\n",
        "\n",
        "int(numm[0]) + int(numm[1]) + int(numm[2])"
      ],
      "metadata": {
        "colab": {
          "base_uri": "https://localhost:8080/"
        },
        "id": "kTzDYcrKFis_",
        "outputId": "d4f041c8-bc8a-483d-eb6d-6079432526d2"
      },
      "id": "kTzDYcrKFis_",
      "execution_count": null,
      "outputs": [
        {
          "output_type": "execute_result",
          "data": {
            "text/plain": [
              "17"
            ]
          },
          "metadata": {},
          "execution_count": 39
        }
      ]
    },
    {
      "cell_type": "code",
      "source": [
        "a = 647\n",
        "a = str"
      ],
      "metadata": {
        "id": "z_-W1ZPY_6jl"
      },
      "id": "z_-W1ZPY_6jl",
      "execution_count": null,
      "outputs": []
    },
    {
      "cell_type": "markdown",
      "id": "1d729b39",
      "metadata": {
        "id": "1d729b39"
      },
      "source": [
        "### Q9. 1번에서 만들었던 dictionary에서 각 value를 가져와 문자열 포매팅을 사용해서 다음 문장을 출력해보세요\n",
        "(ex)\n",
        "\"제 이름은 김띵키이고, 학번은 20124875, 좋아하는 음식은 마라맛 우유입니다.\""
      ]
    },
    {
      "cell_type": "code",
      "execution_count": 5,
      "id": "8393a6d6",
      "metadata": {
        "colab": {
          "base_uri": "https://localhost:8080/"
        },
        "id": "8393a6d6",
        "outputId": "00ff3d87-9661-49bc-e6d0-84e1ab311cde"
      },
      "outputs": [
        {
          "output_type": "stream",
          "name": "stdout",
          "text": [
            "제 이름은 김현조이고, 학번은 20212624, 좋아하는 음식은 곱창입니다.\n"
          ]
        }
      ],
      "source": [
        "print(\"제 이름은 {0}이고, 학번은 {1}, 좋아하는 음식은 {2}입니다.\".format(info[\"이름\"], info[\"학번\"], info[\"음식\"]))"
      ]
    },
    {
      "cell_type": "markdown",
      "id": "59095015",
      "metadata": {
        "id": "59095015"
      },
      "source": [
        "### Q10. 아래 그림을 참고하여 (1)과 (2) 두 수를 사용하여 (3), (4), (5), (6)의 값을 출력하시오. [10점]\n",
        "\n",
        "(총 4개의 값이 출력되어 있어야 함)"
      ]
    },
    {
      "cell_type": "code",
      "source": [
        "first = 472\n",
        "second = 385\n",
        "\n",
        "hun = int(second/100)\n",
        "ten = int((second%100)/10)\n",
        "one = int(second%10)\n",
        "\n",
        "print(first*one)\n",
        "print(first*ten)\n",
        "print(first*hun)\n",
        "print(first*second)"
      ],
      "metadata": {
        "colab": {
          "base_uri": "https://localhost:8080/"
        },
        "id": "-TmX69Q29yE7",
        "outputId": "1ce50e46-0aaf-426c-9316-0f5af1c012e2"
      },
      "id": "-TmX69Q29yE7",
      "execution_count": 10,
      "outputs": [
        {
          "output_type": "stream",
          "name": "stdout",
          "text": [
            "1416\n",
            "3776\n",
            "2360\n",
            "181720\n"
          ]
        }
      ]
    }
  ],
  "metadata": {
    "kernelspec": {
      "display_name": "Python 3 (ipykernel)",
      "language": "python",
      "name": "python3"
    },
    "language_info": {
      "codemirror_mode": {
        "name": "ipython",
        "version": 3
      },
      "file_extension": ".py",
      "mimetype": "text/x-python",
      "name": "python",
      "nbconvert_exporter": "python",
      "pygments_lexer": "ipython3",
      "version": "3.9.7"
    },
    "colab": {
      "name": "basic session 2차시 과제.ipynb",
      "provenance": [],
      "collapsed_sections": []
    }
  },
  "nbformat": 4,
  "nbformat_minor": 5
}